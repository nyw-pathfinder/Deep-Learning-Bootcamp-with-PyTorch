{
  "nbformat": 4,
  "nbformat_minor": 5,
  "metadata": {
    "kernelspec": {
      "display_name": "Python 3",
      "language": "python",
      "name": "python3"
    },
    "language_info": {
      "codemirror_mode": {
        "name": "ipython",
        "version": 3
      },
      "file_extension": ".py",
      "mimetype": "text/x-python",
      "name": "python",
      "nbconvert_exporter": "python",
      "pygments_lexer": "ipython3",
      "version": "3.8.8"
    },
    "name": "07-regularization.ipynb",
    "colab": {
      "name": "07-regularization.ipynb",
      "provenance": []
    },
    "accelerator": "GPU",
    "widgets": {
      "application/vnd.jupyter.widget-state+json": {
        "aabde70600fb4928afc3c5cd1821394e": {
          "model_module": "@jupyter-widgets/controls",
          "model_name": "HBoxModel",
          "state": {
            "_view_name": "HBoxView",
            "_dom_classes": [],
            "_model_name": "HBoxModel",
            "_view_module": "@jupyter-widgets/controls",
            "_model_module_version": "1.5.0",
            "_view_count": null,
            "_view_module_version": "1.5.0",
            "box_style": "",
            "layout": "IPY_MODEL_09ae89d8950f4d4da5be2d0c439a773c",
            "_model_module": "@jupyter-widgets/controls",
            "children": [
              "IPY_MODEL_d64ebc25584b4019a9523502a6175984",
              "IPY_MODEL_77f667dbff464438a70291abd3a785ce"
            ]
          }
        },
        "09ae89d8950f4d4da5be2d0c439a773c": {
          "model_module": "@jupyter-widgets/base",
          "model_name": "LayoutModel",
          "state": {
            "_view_name": "LayoutView",
            "grid_template_rows": null,
            "right": null,
            "justify_content": null,
            "_view_module": "@jupyter-widgets/base",
            "overflow": null,
            "_model_module_version": "1.2.0",
            "_view_count": null,
            "flex_flow": null,
            "width": null,
            "min_width": null,
            "border": null,
            "align_items": null,
            "bottom": null,
            "_model_module": "@jupyter-widgets/base",
            "top": null,
            "grid_column": null,
            "overflow_y": null,
            "overflow_x": null,
            "grid_auto_flow": null,
            "grid_area": null,
            "grid_template_columns": null,
            "flex": null,
            "_model_name": "LayoutModel",
            "justify_items": null,
            "grid_row": null,
            "max_height": null,
            "align_content": null,
            "visibility": null,
            "align_self": null,
            "height": null,
            "min_height": null,
            "padding": null,
            "grid_auto_rows": null,
            "grid_gap": null,
            "max_width": null,
            "order": null,
            "_view_module_version": "1.2.0",
            "grid_template_areas": null,
            "object_position": null,
            "object_fit": null,
            "grid_auto_columns": null,
            "margin": null,
            "display": null,
            "left": null
          }
        },
        "d64ebc25584b4019a9523502a6175984": {
          "model_module": "@jupyter-widgets/controls",
          "model_name": "FloatProgressModel",
          "state": {
            "_view_name": "ProgressView",
            "style": "IPY_MODEL_91f6f5befa7a4c1082891e8c7885e0e6",
            "_dom_classes": [],
            "description": "",
            "_model_name": "FloatProgressModel",
            "bar_style": "success",
            "max": 26421880,
            "_view_module": "@jupyter-widgets/controls",
            "_model_module_version": "1.5.0",
            "value": 26421880,
            "_view_count": null,
            "_view_module_version": "1.5.0",
            "orientation": "horizontal",
            "min": 0,
            "description_tooltip": null,
            "_model_module": "@jupyter-widgets/controls",
            "layout": "IPY_MODEL_35b2028b343d4063912282f26427c0ca"
          }
        },
        "77f667dbff464438a70291abd3a785ce": {
          "model_module": "@jupyter-widgets/controls",
          "model_name": "HTMLModel",
          "state": {
            "_view_name": "HTMLView",
            "style": "IPY_MODEL_f2cfb6fb49764d0fa205fd8b8edb8a64",
            "_dom_classes": [],
            "description": "",
            "_model_name": "HTMLModel",
            "placeholder": "​",
            "_view_module": "@jupyter-widgets/controls",
            "_model_module_version": "1.5.0",
            "value": " 26422272/? [00:03&lt;00:00, 6652120.75it/s]",
            "_view_count": null,
            "_view_module_version": "1.5.0",
            "description_tooltip": null,
            "_model_module": "@jupyter-widgets/controls",
            "layout": "IPY_MODEL_33007fac932e450493a366eda9d73f04"
          }
        },
        "91f6f5befa7a4c1082891e8c7885e0e6": {
          "model_module": "@jupyter-widgets/controls",
          "model_name": "ProgressStyleModel",
          "state": {
            "_view_name": "StyleView",
            "_model_name": "ProgressStyleModel",
            "description_width": "initial",
            "_view_module": "@jupyter-widgets/base",
            "_model_module_version": "1.5.0",
            "_view_count": null,
            "_view_module_version": "1.2.0",
            "bar_color": null,
            "_model_module": "@jupyter-widgets/controls"
          }
        },
        "35b2028b343d4063912282f26427c0ca": {
          "model_module": "@jupyter-widgets/base",
          "model_name": "LayoutModel",
          "state": {
            "_view_name": "LayoutView",
            "grid_template_rows": null,
            "right": null,
            "justify_content": null,
            "_view_module": "@jupyter-widgets/base",
            "overflow": null,
            "_model_module_version": "1.2.0",
            "_view_count": null,
            "flex_flow": null,
            "width": null,
            "min_width": null,
            "border": null,
            "align_items": null,
            "bottom": null,
            "_model_module": "@jupyter-widgets/base",
            "top": null,
            "grid_column": null,
            "overflow_y": null,
            "overflow_x": null,
            "grid_auto_flow": null,
            "grid_area": null,
            "grid_template_columns": null,
            "flex": null,
            "_model_name": "LayoutModel",
            "justify_items": null,
            "grid_row": null,
            "max_height": null,
            "align_content": null,
            "visibility": null,
            "align_self": null,
            "height": null,
            "min_height": null,
            "padding": null,
            "grid_auto_rows": null,
            "grid_gap": null,
            "max_width": null,
            "order": null,
            "_view_module_version": "1.2.0",
            "grid_template_areas": null,
            "object_position": null,
            "object_fit": null,
            "grid_auto_columns": null,
            "margin": null,
            "display": null,
            "left": null
          }
        },
        "f2cfb6fb49764d0fa205fd8b8edb8a64": {
          "model_module": "@jupyter-widgets/controls",
          "model_name": "DescriptionStyleModel",
          "state": {
            "_view_name": "StyleView",
            "_model_name": "DescriptionStyleModel",
            "description_width": "",
            "_view_module": "@jupyter-widgets/base",
            "_model_module_version": "1.5.0",
            "_view_count": null,
            "_view_module_version": "1.2.0",
            "_model_module": "@jupyter-widgets/controls"
          }
        },
        "33007fac932e450493a366eda9d73f04": {
          "model_module": "@jupyter-widgets/base",
          "model_name": "LayoutModel",
          "state": {
            "_view_name": "LayoutView",
            "grid_template_rows": null,
            "right": null,
            "justify_content": null,
            "_view_module": "@jupyter-widgets/base",
            "overflow": null,
            "_model_module_version": "1.2.0",
            "_view_count": null,
            "flex_flow": null,
            "width": null,
            "min_width": null,
            "border": null,
            "align_items": null,
            "bottom": null,
            "_model_module": "@jupyter-widgets/base",
            "top": null,
            "grid_column": null,
            "overflow_y": null,
            "overflow_x": null,
            "grid_auto_flow": null,
            "grid_area": null,
            "grid_template_columns": null,
            "flex": null,
            "_model_name": "LayoutModel",
            "justify_items": null,
            "grid_row": null,
            "max_height": null,
            "align_content": null,
            "visibility": null,
            "align_self": null,
            "height": null,
            "min_height": null,
            "padding": null,
            "grid_auto_rows": null,
            "grid_gap": null,
            "max_width": null,
            "order": null,
            "_view_module_version": "1.2.0",
            "grid_template_areas": null,
            "object_position": null,
            "object_fit": null,
            "grid_auto_columns": null,
            "margin": null,
            "display": null,
            "left": null
          }
        },
        "7aadcfcb91014756ab380deffe545bff": {
          "model_module": "@jupyter-widgets/controls",
          "model_name": "HBoxModel",
          "state": {
            "_view_name": "HBoxView",
            "_dom_classes": [],
            "_model_name": "HBoxModel",
            "_view_module": "@jupyter-widgets/controls",
            "_model_module_version": "1.5.0",
            "_view_count": null,
            "_view_module_version": "1.5.0",
            "box_style": "",
            "layout": "IPY_MODEL_79639249ebd44b03a87dbd39d94db58d",
            "_model_module": "@jupyter-widgets/controls",
            "children": [
              "IPY_MODEL_0b28d757df2d42c6bd6859da79023caa",
              "IPY_MODEL_4ea4a7cd21c143908c4d521ffa09aeaa"
            ]
          }
        },
        "79639249ebd44b03a87dbd39d94db58d": {
          "model_module": "@jupyter-widgets/base",
          "model_name": "LayoutModel",
          "state": {
            "_view_name": "LayoutView",
            "grid_template_rows": null,
            "right": null,
            "justify_content": null,
            "_view_module": "@jupyter-widgets/base",
            "overflow": null,
            "_model_module_version": "1.2.0",
            "_view_count": null,
            "flex_flow": null,
            "width": null,
            "min_width": null,
            "border": null,
            "align_items": null,
            "bottom": null,
            "_model_module": "@jupyter-widgets/base",
            "top": null,
            "grid_column": null,
            "overflow_y": null,
            "overflow_x": null,
            "grid_auto_flow": null,
            "grid_area": null,
            "grid_template_columns": null,
            "flex": null,
            "_model_name": "LayoutModel",
            "justify_items": null,
            "grid_row": null,
            "max_height": null,
            "align_content": null,
            "visibility": null,
            "align_self": null,
            "height": null,
            "min_height": null,
            "padding": null,
            "grid_auto_rows": null,
            "grid_gap": null,
            "max_width": null,
            "order": null,
            "_view_module_version": "1.2.0",
            "grid_template_areas": null,
            "object_position": null,
            "object_fit": null,
            "grid_auto_columns": null,
            "margin": null,
            "display": null,
            "left": null
          }
        },
        "0b28d757df2d42c6bd6859da79023caa": {
          "model_module": "@jupyter-widgets/controls",
          "model_name": "FloatProgressModel",
          "state": {
            "_view_name": "ProgressView",
            "style": "IPY_MODEL_5c0b877ab95843e7b6f63cc7e571d7b6",
            "_dom_classes": [],
            "description": "",
            "_model_name": "FloatProgressModel",
            "bar_style": "success",
            "max": 29515,
            "_view_module": "@jupyter-widgets/controls",
            "_model_module_version": "1.5.0",
            "value": 29515,
            "_view_count": null,
            "_view_module_version": "1.5.0",
            "orientation": "horizontal",
            "min": 0,
            "description_tooltip": null,
            "_model_module": "@jupyter-widgets/controls",
            "layout": "IPY_MODEL_46930b8f6eb44dffa3c06433f7471c07"
          }
        },
        "4ea4a7cd21c143908c4d521ffa09aeaa": {
          "model_module": "@jupyter-widgets/controls",
          "model_name": "HTMLModel",
          "state": {
            "_view_name": "HTMLView",
            "style": "IPY_MODEL_a8f5a6bb99de4fc6af790e6273fc6c15",
            "_dom_classes": [],
            "description": "",
            "_model_name": "HTMLModel",
            "placeholder": "​",
            "_view_module": "@jupyter-widgets/controls",
            "_model_module_version": "1.5.0",
            "value": " 29696/? [00:00&lt;00:00, 119900.36it/s]",
            "_view_count": null,
            "_view_module_version": "1.5.0",
            "description_tooltip": null,
            "_model_module": "@jupyter-widgets/controls",
            "layout": "IPY_MODEL_39bba98c11be40e1a162626b50067c7a"
          }
        },
        "5c0b877ab95843e7b6f63cc7e571d7b6": {
          "model_module": "@jupyter-widgets/controls",
          "model_name": "ProgressStyleModel",
          "state": {
            "_view_name": "StyleView",
            "_model_name": "ProgressStyleModel",
            "description_width": "initial",
            "_view_module": "@jupyter-widgets/base",
            "_model_module_version": "1.5.0",
            "_view_count": null,
            "_view_module_version": "1.2.0",
            "bar_color": null,
            "_model_module": "@jupyter-widgets/controls"
          }
        },
        "46930b8f6eb44dffa3c06433f7471c07": {
          "model_module": "@jupyter-widgets/base",
          "model_name": "LayoutModel",
          "state": {
            "_view_name": "LayoutView",
            "grid_template_rows": null,
            "right": null,
            "justify_content": null,
            "_view_module": "@jupyter-widgets/base",
            "overflow": null,
            "_model_module_version": "1.2.0",
            "_view_count": null,
            "flex_flow": null,
            "width": null,
            "min_width": null,
            "border": null,
            "align_items": null,
            "bottom": null,
            "_model_module": "@jupyter-widgets/base",
            "top": null,
            "grid_column": null,
            "overflow_y": null,
            "overflow_x": null,
            "grid_auto_flow": null,
            "grid_area": null,
            "grid_template_columns": null,
            "flex": null,
            "_model_name": "LayoutModel",
            "justify_items": null,
            "grid_row": null,
            "max_height": null,
            "align_content": null,
            "visibility": null,
            "align_self": null,
            "height": null,
            "min_height": null,
            "padding": null,
            "grid_auto_rows": null,
            "grid_gap": null,
            "max_width": null,
            "order": null,
            "_view_module_version": "1.2.0",
            "grid_template_areas": null,
            "object_position": null,
            "object_fit": null,
            "grid_auto_columns": null,
            "margin": null,
            "display": null,
            "left": null
          }
        },
        "a8f5a6bb99de4fc6af790e6273fc6c15": {
          "model_module": "@jupyter-widgets/controls",
          "model_name": "DescriptionStyleModel",
          "state": {
            "_view_name": "StyleView",
            "_model_name": "DescriptionStyleModel",
            "description_width": "",
            "_view_module": "@jupyter-widgets/base",
            "_model_module_version": "1.5.0",
            "_view_count": null,
            "_view_module_version": "1.2.0",
            "_model_module": "@jupyter-widgets/controls"
          }
        },
        "39bba98c11be40e1a162626b50067c7a": {
          "model_module": "@jupyter-widgets/base",
          "model_name": "LayoutModel",
          "state": {
            "_view_name": "LayoutView",
            "grid_template_rows": null,
            "right": null,
            "justify_content": null,
            "_view_module": "@jupyter-widgets/base",
            "overflow": null,
            "_model_module_version": "1.2.0",
            "_view_count": null,
            "flex_flow": null,
            "width": null,
            "min_width": null,
            "border": null,
            "align_items": null,
            "bottom": null,
            "_model_module": "@jupyter-widgets/base",
            "top": null,
            "grid_column": null,
            "overflow_y": null,
            "overflow_x": null,
            "grid_auto_flow": null,
            "grid_area": null,
            "grid_template_columns": null,
            "flex": null,
            "_model_name": "LayoutModel",
            "justify_items": null,
            "grid_row": null,
            "max_height": null,
            "align_content": null,
            "visibility": null,
            "align_self": null,
            "height": null,
            "min_height": null,
            "padding": null,
            "grid_auto_rows": null,
            "grid_gap": null,
            "max_width": null,
            "order": null,
            "_view_module_version": "1.2.0",
            "grid_template_areas": null,
            "object_position": null,
            "object_fit": null,
            "grid_auto_columns": null,
            "margin": null,
            "display": null,
            "left": null
          }
        },
        "1e20e559f33749cdacae638c91b1a81f": {
          "model_module": "@jupyter-widgets/controls",
          "model_name": "HBoxModel",
          "state": {
            "_view_name": "HBoxView",
            "_dom_classes": [],
            "_model_name": "HBoxModel",
            "_view_module": "@jupyter-widgets/controls",
            "_model_module_version": "1.5.0",
            "_view_count": null,
            "_view_module_version": "1.5.0",
            "box_style": "",
            "layout": "IPY_MODEL_c39101432fd54def9a2227c0fcf38823",
            "_model_module": "@jupyter-widgets/controls",
            "children": [
              "IPY_MODEL_74540ecf9c8b418fa7f68dcc7d492b16",
              "IPY_MODEL_33cf862af819408dbae35f63bb6bea73"
            ]
          }
        },
        "c39101432fd54def9a2227c0fcf38823": {
          "model_module": "@jupyter-widgets/base",
          "model_name": "LayoutModel",
          "state": {
            "_view_name": "LayoutView",
            "grid_template_rows": null,
            "right": null,
            "justify_content": null,
            "_view_module": "@jupyter-widgets/base",
            "overflow": null,
            "_model_module_version": "1.2.0",
            "_view_count": null,
            "flex_flow": null,
            "width": null,
            "min_width": null,
            "border": null,
            "align_items": null,
            "bottom": null,
            "_model_module": "@jupyter-widgets/base",
            "top": null,
            "grid_column": null,
            "overflow_y": null,
            "overflow_x": null,
            "grid_auto_flow": null,
            "grid_area": null,
            "grid_template_columns": null,
            "flex": null,
            "_model_name": "LayoutModel",
            "justify_items": null,
            "grid_row": null,
            "max_height": null,
            "align_content": null,
            "visibility": null,
            "align_self": null,
            "height": null,
            "min_height": null,
            "padding": null,
            "grid_auto_rows": null,
            "grid_gap": null,
            "max_width": null,
            "order": null,
            "_view_module_version": "1.2.0",
            "grid_template_areas": null,
            "object_position": null,
            "object_fit": null,
            "grid_auto_columns": null,
            "margin": null,
            "display": null,
            "left": null
          }
        },
        "74540ecf9c8b418fa7f68dcc7d492b16": {
          "model_module": "@jupyter-widgets/controls",
          "model_name": "FloatProgressModel",
          "state": {
            "_view_name": "ProgressView",
            "style": "IPY_MODEL_2170a0604afd4419b060d07acd4bba50",
            "_dom_classes": [],
            "description": "",
            "_model_name": "FloatProgressModel",
            "bar_style": "success",
            "max": 4422102,
            "_view_module": "@jupyter-widgets/controls",
            "_model_module_version": "1.5.0",
            "value": 4422102,
            "_view_count": null,
            "_view_module_version": "1.5.0",
            "orientation": "horizontal",
            "min": 0,
            "description_tooltip": null,
            "_model_module": "@jupyter-widgets/controls",
            "layout": "IPY_MODEL_3610d8e1a1924c1a92e4c36d4c5dec22"
          }
        },
        "33cf862af819408dbae35f63bb6bea73": {
          "model_module": "@jupyter-widgets/controls",
          "model_name": "HTMLModel",
          "state": {
            "_view_name": "HTMLView",
            "style": "IPY_MODEL_1f5c38becbe441229b7ba3f66eb54ab9",
            "_dom_classes": [],
            "description": "",
            "_model_name": "HTMLModel",
            "placeholder": "​",
            "_view_module": "@jupyter-widgets/controls",
            "_model_module_version": "1.5.0",
            "value": " 4422656/? [00:02&lt;00:00, 2074650.87it/s]",
            "_view_count": null,
            "_view_module_version": "1.5.0",
            "description_tooltip": null,
            "_model_module": "@jupyter-widgets/controls",
            "layout": "IPY_MODEL_b667897c2a6042a191ffc935be866fda"
          }
        },
        "2170a0604afd4419b060d07acd4bba50": {
          "model_module": "@jupyter-widgets/controls",
          "model_name": "ProgressStyleModel",
          "state": {
            "_view_name": "StyleView",
            "_model_name": "ProgressStyleModel",
            "description_width": "initial",
            "_view_module": "@jupyter-widgets/base",
            "_model_module_version": "1.5.0",
            "_view_count": null,
            "_view_module_version": "1.2.0",
            "bar_color": null,
            "_model_module": "@jupyter-widgets/controls"
          }
        },
        "3610d8e1a1924c1a92e4c36d4c5dec22": {
          "model_module": "@jupyter-widgets/base",
          "model_name": "LayoutModel",
          "state": {
            "_view_name": "LayoutView",
            "grid_template_rows": null,
            "right": null,
            "justify_content": null,
            "_view_module": "@jupyter-widgets/base",
            "overflow": null,
            "_model_module_version": "1.2.0",
            "_view_count": null,
            "flex_flow": null,
            "width": null,
            "min_width": null,
            "border": null,
            "align_items": null,
            "bottom": null,
            "_model_module": "@jupyter-widgets/base",
            "top": null,
            "grid_column": null,
            "overflow_y": null,
            "overflow_x": null,
            "grid_auto_flow": null,
            "grid_area": null,
            "grid_template_columns": null,
            "flex": null,
            "_model_name": "LayoutModel",
            "justify_items": null,
            "grid_row": null,
            "max_height": null,
            "align_content": null,
            "visibility": null,
            "align_self": null,
            "height": null,
            "min_height": null,
            "padding": null,
            "grid_auto_rows": null,
            "grid_gap": null,
            "max_width": null,
            "order": null,
            "_view_module_version": "1.2.0",
            "grid_template_areas": null,
            "object_position": null,
            "object_fit": null,
            "grid_auto_columns": null,
            "margin": null,
            "display": null,
            "left": null
          }
        },
        "1f5c38becbe441229b7ba3f66eb54ab9": {
          "model_module": "@jupyter-widgets/controls",
          "model_name": "DescriptionStyleModel",
          "state": {
            "_view_name": "StyleView",
            "_model_name": "DescriptionStyleModel",
            "description_width": "",
            "_view_module": "@jupyter-widgets/base",
            "_model_module_version": "1.5.0",
            "_view_count": null,
            "_view_module_version": "1.2.0",
            "_model_module": "@jupyter-widgets/controls"
          }
        },
        "b667897c2a6042a191ffc935be866fda": {
          "model_module": "@jupyter-widgets/base",
          "model_name": "LayoutModel",
          "state": {
            "_view_name": "LayoutView",
            "grid_template_rows": null,
            "right": null,
            "justify_content": null,
            "_view_module": "@jupyter-widgets/base",
            "overflow": null,
            "_model_module_version": "1.2.0",
            "_view_count": null,
            "flex_flow": null,
            "width": null,
            "min_width": null,
            "border": null,
            "align_items": null,
            "bottom": null,
            "_model_module": "@jupyter-widgets/base",
            "top": null,
            "grid_column": null,
            "overflow_y": null,
            "overflow_x": null,
            "grid_auto_flow": null,
            "grid_area": null,
            "grid_template_columns": null,
            "flex": null,
            "_model_name": "LayoutModel",
            "justify_items": null,
            "grid_row": null,
            "max_height": null,
            "align_content": null,
            "visibility": null,
            "align_self": null,
            "height": null,
            "min_height": null,
            "padding": null,
            "grid_auto_rows": null,
            "grid_gap": null,
            "max_width": null,
            "order": null,
            "_view_module_version": "1.2.0",
            "grid_template_areas": null,
            "object_position": null,
            "object_fit": null,
            "grid_auto_columns": null,
            "margin": null,
            "display": null,
            "left": null
          }
        },
        "9c31ec54f7aa4a889581c9c7e2d23421": {
          "model_module": "@jupyter-widgets/controls",
          "model_name": "HBoxModel",
          "state": {
            "_view_name": "HBoxView",
            "_dom_classes": [],
            "_model_name": "HBoxModel",
            "_view_module": "@jupyter-widgets/controls",
            "_model_module_version": "1.5.0",
            "_view_count": null,
            "_view_module_version": "1.5.0",
            "box_style": "",
            "layout": "IPY_MODEL_3fc0ef34721b43168419b2f7ec828461",
            "_model_module": "@jupyter-widgets/controls",
            "children": [
              "IPY_MODEL_237f7c709fa94e639503479dcd202e7c",
              "IPY_MODEL_77403bab33154f95aa79e0e16931fda3"
            ]
          }
        },
        "3fc0ef34721b43168419b2f7ec828461": {
          "model_module": "@jupyter-widgets/base",
          "model_name": "LayoutModel",
          "state": {
            "_view_name": "LayoutView",
            "grid_template_rows": null,
            "right": null,
            "justify_content": null,
            "_view_module": "@jupyter-widgets/base",
            "overflow": null,
            "_model_module_version": "1.2.0",
            "_view_count": null,
            "flex_flow": null,
            "width": null,
            "min_width": null,
            "border": null,
            "align_items": null,
            "bottom": null,
            "_model_module": "@jupyter-widgets/base",
            "top": null,
            "grid_column": null,
            "overflow_y": null,
            "overflow_x": null,
            "grid_auto_flow": null,
            "grid_area": null,
            "grid_template_columns": null,
            "flex": null,
            "_model_name": "LayoutModel",
            "justify_items": null,
            "grid_row": null,
            "max_height": null,
            "align_content": null,
            "visibility": null,
            "align_self": null,
            "height": null,
            "min_height": null,
            "padding": null,
            "grid_auto_rows": null,
            "grid_gap": null,
            "max_width": null,
            "order": null,
            "_view_module_version": "1.2.0",
            "grid_template_areas": null,
            "object_position": null,
            "object_fit": null,
            "grid_auto_columns": null,
            "margin": null,
            "display": null,
            "left": null
          }
        },
        "237f7c709fa94e639503479dcd202e7c": {
          "model_module": "@jupyter-widgets/controls",
          "model_name": "FloatProgressModel",
          "state": {
            "_view_name": "ProgressView",
            "style": "IPY_MODEL_69e7002707804c1ba9cc55288009fc33",
            "_dom_classes": [],
            "description": "",
            "_model_name": "FloatProgressModel",
            "bar_style": "success",
            "max": 5148,
            "_view_module": "@jupyter-widgets/controls",
            "_model_module_version": "1.5.0",
            "value": 5148,
            "_view_count": null,
            "_view_module_version": "1.5.0",
            "orientation": "horizontal",
            "min": 0,
            "description_tooltip": null,
            "_model_module": "@jupyter-widgets/controls",
            "layout": "IPY_MODEL_ad9814eea6bd4f569c94a47c82ee18a3"
          }
        },
        "77403bab33154f95aa79e0e16931fda3": {
          "model_module": "@jupyter-widgets/controls",
          "model_name": "HTMLModel",
          "state": {
            "_view_name": "HTMLView",
            "style": "IPY_MODEL_2e4343bef6d041a3938893fd6dc074b6",
            "_dom_classes": [],
            "description": "",
            "_model_name": "HTMLModel",
            "placeholder": "​",
            "_view_module": "@jupyter-widgets/controls",
            "_model_module_version": "1.5.0",
            "value": " 6144/? [00:00&lt;00:00, 27985.71it/s]",
            "_view_count": null,
            "_view_module_version": "1.5.0",
            "description_tooltip": null,
            "_model_module": "@jupyter-widgets/controls",
            "layout": "IPY_MODEL_f1fce7db44bf44749b97c18aa61fb1af"
          }
        },
        "69e7002707804c1ba9cc55288009fc33": {
          "model_module": "@jupyter-widgets/controls",
          "model_name": "ProgressStyleModel",
          "state": {
            "_view_name": "StyleView",
            "_model_name": "ProgressStyleModel",
            "description_width": "initial",
            "_view_module": "@jupyter-widgets/base",
            "_model_module_version": "1.5.0",
            "_view_count": null,
            "_view_module_version": "1.2.0",
            "bar_color": null,
            "_model_module": "@jupyter-widgets/controls"
          }
        },
        "ad9814eea6bd4f569c94a47c82ee18a3": {
          "model_module": "@jupyter-widgets/base",
          "model_name": "LayoutModel",
          "state": {
            "_view_name": "LayoutView",
            "grid_template_rows": null,
            "right": null,
            "justify_content": null,
            "_view_module": "@jupyter-widgets/base",
            "overflow": null,
            "_model_module_version": "1.2.0",
            "_view_count": null,
            "flex_flow": null,
            "width": null,
            "min_width": null,
            "border": null,
            "align_items": null,
            "bottom": null,
            "_model_module": "@jupyter-widgets/base",
            "top": null,
            "grid_column": null,
            "overflow_y": null,
            "overflow_x": null,
            "grid_auto_flow": null,
            "grid_area": null,
            "grid_template_columns": null,
            "flex": null,
            "_model_name": "LayoutModel",
            "justify_items": null,
            "grid_row": null,
            "max_height": null,
            "align_content": null,
            "visibility": null,
            "align_self": null,
            "height": null,
            "min_height": null,
            "padding": null,
            "grid_auto_rows": null,
            "grid_gap": null,
            "max_width": null,
            "order": null,
            "_view_module_version": "1.2.0",
            "grid_template_areas": null,
            "object_position": null,
            "object_fit": null,
            "grid_auto_columns": null,
            "margin": null,
            "display": null,
            "left": null
          }
        },
        "2e4343bef6d041a3938893fd6dc074b6": {
          "model_module": "@jupyter-widgets/controls",
          "model_name": "DescriptionStyleModel",
          "state": {
            "_view_name": "StyleView",
            "_model_name": "DescriptionStyleModel",
            "description_width": "",
            "_view_module": "@jupyter-widgets/base",
            "_model_module_version": "1.5.0",
            "_view_count": null,
            "_view_module_version": "1.2.0",
            "_model_module": "@jupyter-widgets/controls"
          }
        },
        "f1fce7db44bf44749b97c18aa61fb1af": {
          "model_module": "@jupyter-widgets/base",
          "model_name": "LayoutModel",
          "state": {
            "_view_name": "LayoutView",
            "grid_template_rows": null,
            "right": null,
            "justify_content": null,
            "_view_module": "@jupyter-widgets/base",
            "overflow": null,
            "_model_module_version": "1.2.0",
            "_view_count": null,
            "flex_flow": null,
            "width": null,
            "min_width": null,
            "border": null,
            "align_items": null,
            "bottom": null,
            "_model_module": "@jupyter-widgets/base",
            "top": null,
            "grid_column": null,
            "overflow_y": null,
            "overflow_x": null,
            "grid_auto_flow": null,
            "grid_area": null,
            "grid_template_columns": null,
            "flex": null,
            "_model_name": "LayoutModel",
            "justify_items": null,
            "grid_row": null,
            "max_height": null,
            "align_content": null,
            "visibility": null,
            "align_self": null,
            "height": null,
            "min_height": null,
            "padding": null,
            "grid_auto_rows": null,
            "grid_gap": null,
            "max_width": null,
            "order": null,
            "_view_module_version": "1.2.0",
            "grid_template_areas": null,
            "object_position": null,
            "object_fit": null,
            "grid_auto_columns": null,
            "margin": null,
            "display": null,
            "left": null
          }
        },
        "27f0106d006f479a9a5bdcb46294a296": {
          "model_module": "@jupyter-widgets/controls",
          "model_name": "HBoxModel",
          "state": {
            "_view_name": "HBoxView",
            "_dom_classes": [],
            "_model_name": "HBoxModel",
            "_view_module": "@jupyter-widgets/controls",
            "_model_module_version": "1.5.0",
            "_view_count": null,
            "_view_module_version": "1.5.0",
            "box_style": "",
            "layout": "IPY_MODEL_6e4ed3c33d3e42fba42242401ebd4aa6",
            "_model_module": "@jupyter-widgets/controls",
            "children": [
              "IPY_MODEL_cc444815a02b480eb5b8f8bf6a51c7a6",
              "IPY_MODEL_ce8e6bc51cee4a3197fb92ae1c15f663"
            ]
          }
        },
        "6e4ed3c33d3e42fba42242401ebd4aa6": {
          "model_module": "@jupyter-widgets/base",
          "model_name": "LayoutModel",
          "state": {
            "_view_name": "LayoutView",
            "grid_template_rows": null,
            "right": null,
            "justify_content": null,
            "_view_module": "@jupyter-widgets/base",
            "overflow": null,
            "_model_module_version": "1.2.0",
            "_view_count": null,
            "flex_flow": null,
            "width": null,
            "min_width": null,
            "border": null,
            "align_items": null,
            "bottom": null,
            "_model_module": "@jupyter-widgets/base",
            "top": null,
            "grid_column": null,
            "overflow_y": null,
            "overflow_x": null,
            "grid_auto_flow": null,
            "grid_area": null,
            "grid_template_columns": null,
            "flex": null,
            "_model_name": "LayoutModel",
            "justify_items": null,
            "grid_row": null,
            "max_height": null,
            "align_content": null,
            "visibility": null,
            "align_self": null,
            "height": null,
            "min_height": null,
            "padding": null,
            "grid_auto_rows": null,
            "grid_gap": null,
            "max_width": null,
            "order": null,
            "_view_module_version": "1.2.0",
            "grid_template_areas": null,
            "object_position": null,
            "object_fit": null,
            "grid_auto_columns": null,
            "margin": null,
            "display": null,
            "left": null
          }
        },
        "cc444815a02b480eb5b8f8bf6a51c7a6": {
          "model_module": "@jupyter-widgets/controls",
          "model_name": "FloatProgressModel",
          "state": {
            "_view_name": "ProgressView",
            "style": "IPY_MODEL_5ff507b05745498d9941e5ddc06d3770",
            "_dom_classes": [],
            "description": "",
            "_model_name": "FloatProgressModel",
            "bar_style": "success",
            "max": 169001437,
            "_view_module": "@jupyter-widgets/controls",
            "_model_module_version": "1.5.0",
            "value": 169001437,
            "_view_count": null,
            "_view_module_version": "1.5.0",
            "orientation": "horizontal",
            "min": 0,
            "description_tooltip": null,
            "_model_module": "@jupyter-widgets/controls",
            "layout": "IPY_MODEL_2211e6bf4de14db3870ad3d9295e0c11"
          }
        },
        "ce8e6bc51cee4a3197fb92ae1c15f663": {
          "model_module": "@jupyter-widgets/controls",
          "model_name": "HTMLModel",
          "state": {
            "_view_name": "HTMLView",
            "style": "IPY_MODEL_a209edfa2af4429fa6bbbfec76f62141",
            "_dom_classes": [],
            "description": "",
            "_model_name": "HTMLModel",
            "placeholder": "​",
            "_view_module": "@jupyter-widgets/controls",
            "_model_module_version": "1.5.0",
            "value": " 169001984/? [03:03&lt;00:00, 921303.01it/s]",
            "_view_count": null,
            "_view_module_version": "1.5.0",
            "description_tooltip": null,
            "_model_module": "@jupyter-widgets/controls",
            "layout": "IPY_MODEL_329eeac8be3b45ffac970ec9f73b3d98"
          }
        },
        "5ff507b05745498d9941e5ddc06d3770": {
          "model_module": "@jupyter-widgets/controls",
          "model_name": "ProgressStyleModel",
          "state": {
            "_view_name": "StyleView",
            "_model_name": "ProgressStyleModel",
            "description_width": "initial",
            "_view_module": "@jupyter-widgets/base",
            "_model_module_version": "1.5.0",
            "_view_count": null,
            "_view_module_version": "1.2.0",
            "bar_color": null,
            "_model_module": "@jupyter-widgets/controls"
          }
        },
        "2211e6bf4de14db3870ad3d9295e0c11": {
          "model_module": "@jupyter-widgets/base",
          "model_name": "LayoutModel",
          "state": {
            "_view_name": "LayoutView",
            "grid_template_rows": null,
            "right": null,
            "justify_content": null,
            "_view_module": "@jupyter-widgets/base",
            "overflow": null,
            "_model_module_version": "1.2.0",
            "_view_count": null,
            "flex_flow": null,
            "width": null,
            "min_width": null,
            "border": null,
            "align_items": null,
            "bottom": null,
            "_model_module": "@jupyter-widgets/base",
            "top": null,
            "grid_column": null,
            "overflow_y": null,
            "overflow_x": null,
            "grid_auto_flow": null,
            "grid_area": null,
            "grid_template_columns": null,
            "flex": null,
            "_model_name": "LayoutModel",
            "justify_items": null,
            "grid_row": null,
            "max_height": null,
            "align_content": null,
            "visibility": null,
            "align_self": null,
            "height": null,
            "min_height": null,
            "padding": null,
            "grid_auto_rows": null,
            "grid_gap": null,
            "max_width": null,
            "order": null,
            "_view_module_version": "1.2.0",
            "grid_template_areas": null,
            "object_position": null,
            "object_fit": null,
            "grid_auto_columns": null,
            "margin": null,
            "display": null,
            "left": null
          }
        },
        "a209edfa2af4429fa6bbbfec76f62141": {
          "model_module": "@jupyter-widgets/controls",
          "model_name": "DescriptionStyleModel",
          "state": {
            "_view_name": "StyleView",
            "_model_name": "DescriptionStyleModel",
            "description_width": "",
            "_view_module": "@jupyter-widgets/base",
            "_model_module_version": "1.5.0",
            "_view_count": null,
            "_view_module_version": "1.2.0",
            "_model_module": "@jupyter-widgets/controls"
          }
        },
        "329eeac8be3b45ffac970ec9f73b3d98": {
          "model_module": "@jupyter-widgets/base",
          "model_name": "LayoutModel",
          "state": {
            "_view_name": "LayoutView",
            "grid_template_rows": null,
            "right": null,
            "justify_content": null,
            "_view_module": "@jupyter-widgets/base",
            "overflow": null,
            "_model_module_version": "1.2.0",
            "_view_count": null,
            "flex_flow": null,
            "width": null,
            "min_width": null,
            "border": null,
            "align_items": null,
            "bottom": null,
            "_model_module": "@jupyter-widgets/base",
            "top": null,
            "grid_column": null,
            "overflow_y": null,
            "overflow_x": null,
            "grid_auto_flow": null,
            "grid_area": null,
            "grid_template_columns": null,
            "flex": null,
            "_model_name": "LayoutModel",
            "justify_items": null,
            "grid_row": null,
            "max_height": null,
            "align_content": null,
            "visibility": null,
            "align_self": null,
            "height": null,
            "min_height": null,
            "padding": null,
            "grid_auto_rows": null,
            "grid_gap": null,
            "max_width": null,
            "order": null,
            "_view_module_version": "1.2.0",
            "grid_template_areas": null,
            "object_position": null,
            "object_fit": null,
            "grid_auto_columns": null,
            "margin": null,
            "display": null,
            "left": null
          }
        }
      }
    }
  },
  "cells": [
    {
      "cell_type": "markdown",
      "metadata": {
        "id": "nasty-offset"
      },
      "source": [
        "# Table of Contents\n",
        "\n",
        "- [Early Stopping](#early-stopping)\n",
        "- [Weight decay](#weight-decay)\n",
        "- [Data augmentation](#augment)\n",
        "- [Dropout](#dropout)\n",
        "- [BatchNorm](#batchnorm)\n",
        "- [Exercises](#exercises)"
      ],
      "id": "nasty-offset"
    },
    {
      "cell_type": "markdown",
      "metadata": {
        "id": "spoken-nightmare"
      },
      "source": [
        "\n",
        "# Housekeeping\n",
        "\n",
        "- Some references for today\n",
        "  - [Official pytorch tutorials](https://pytorch.org/tutorials/)\n",
        "  - [Pytorch tutorials by yunjey, from beginning to advanced](https://github.com/yunjey/pytorch-tutorial)\n",
        "  - [Deep Learning Book on ConvNets](https://www.deeplearningbook.org/contents/convnets.html)\n",
        "  - [Deep learning book on Regularization](https://www.deeplearningbook.org/contents/regularization.html)\n",
        "- Today's url \n",
        "  - https://git.io/ml2021-07\n",
        "- Email if you need help with any of this!\n",
        "\n",
        "# Generalization Revisited\n",
        "\n",
        "- Lets remind ourselves of the point of machine learning:\n",
        "  - We want to build a model to solve a classification or regression problem\n",
        "    - Classification: given a datapoint, which (of several given)\n",
        "      category does this datapoint belong to, e.g. dog or cat,\n",
        "      electron or proton, galaxy or star\n",
        "    - Regression: given a datapoint, what value(s) of some (hidden)\n",
        "      input variable(s) produced this datapoint, e.g. energy of photon\n",
        "      given calorimeter measurement; age of person in a given photo;\n",
        "      value of a house given info on location, size, etc.\n",
        "  - The model has some parameters which we can optimize (it represents\n",
        "    a continuum of potential models) \n",
        "  - We have some labelled examples\n",
        "  - We use the labelled examples as input to train the parameters of\n",
        "    the model\n",
        "  - Ultimately, we want the model to work on unlabelled examples\n",
        "- The last point can be said: we want the model to *generalize*\n",
        "\n",
        "# Regularization\n",
        "\n",
        "- We previously looked at training, and the idea of splitting the data to\n",
        "  - Training set: a set of labelled datapoints which are used as\n",
        "    inputs to optimization process\n",
        "  - Testing set: a (separate!) set of labelled datapoints which are\n",
        "    used to understand how well the model generalizes\n",
        "- A loss function is optimized, and the properties on the training and\n",
        "  testing set are used to check that we're not /overtraining/ the\n",
        "  model (optimizing on non-generalizable features of the training set)\n",
        "- *Regularization* is any strategy which is designed to reduce the\n",
        "  testing set error, usually at the expense of the training set error\n",
        "- In another way: regularization techniques are used to avoid\n",
        "  overtraining the model and to increase the generalizablity of the\n",
        "  model\n",
        "- This can include altering the training inputs in some way, altering\n",
        "  parts of the model between training runs, or including some kind of\n",
        "  penalties to prevent model parameters from diverging in size or to\n",
        "  encode prior knowledge\n",
        "- We will look at a few common strategies today\n",
        "\n",
        "# Early stopping <a id=\"early-stopping\" />\n",
        "\n",
        "- Our first regularization strategy is one we already saw *early stopping*\n",
        "- In large complex models, its almost certain the model capacity is too large\n",
        "- So, we train, keep track of testing loss, and use the model\n",
        "  parameters that gives the minimum of the training set\n",
        "- Requires saving the parameters for each point\n",
        "- Effectively an efficient hyperparameter optimization technique\n",
        "- Commonly used as an inexpensive, almost no setup technique in\n",
        "  conjunction with the other methods we'll discuss\n",
        "\n",
        "# L2 regularization or \"weight decay\" <a id=\"weight-decay\" />\n",
        "\n",
        "- This is a classic machine learning technique, where its also called \"ridge regression\"\n",
        "- The idea is to keep the weights close to the origin (close to 0) by adding a penalty to the loss function\n",
        "- Given a loss function $J(w;X,y)$ for weights $w$ data represented by a matrix $X$ with known outputs $y$:\n",
        "  - Use the total loss function $J^*(w;X,y) = \\frac{\\alpha}{2} |w|^2 + J(w;X,y)$\n",
        "  - Then, the gradient is: $\\nabla_w J^*(w;X,y) = \\alpha w + \\nabla_w J(w;X,y)$\n",
        "  - So a single gradient step to update the weights with learning rate\n",
        "    $\\lambda$ looks like: $w \\leftarrow w - \\lambda(\\alpha |w| + \\nabla_w\n",
        "    J(w;X,y))$\n",
        "  - Or: $w \\leftarrow (1 - \\lambda\\alpha) |w| - \\lambda \\nabla_w J(w;X,y)$\n",
        "- So, the effect is to reduce the size of the weight by some small\n",
        "  fraction $\\alpha\\lambda$ every step, as well as stepping in the gradient direction\n",
        "- Thus, this technique for keeping the weights small is known as weight decay\n",
        "\n",
        "# More on weight decay\n",
        "\n",
        "- Weight helps to control model complexity by effectively reducing the\n",
        "  allowable search space for the weights\n",
        "  - Large values for the weights will be driven to small values, thus\n",
        "    disallowed\n",
        "- You can relate the weight decay to controlling which eigenvalues of\n",
        "  the Hessian make an impact in the parameter search, small\n",
        "  eigenvalues which have little impact on the gradient will be\n",
        "  effectively remove (another name for this is Tikhinov regularization\n",
        "  which will be familiar if you know about it from unfolding)\n",
        "- In pytorch, weight decay can be turned on in the optimizer by\n",
        "  setting `weight_decay` to the chosen $\\alpha$\n",
        "- The necessary `weight_decay` will depend on the model and the data,\n",
        "  one typically needs to try several orders of magnitude to determine\n",
        "  the best parameter (or if it helps, this is a *hyperparameter tuning*)"
      ],
      "id": "spoken-nightmare"
    },
    {
      "cell_type": "markdown",
      "metadata": {
        "id": "threaded-curtis"
      },
      "source": [
        "optim = torch.optim.SGD(..., weight_decay=0.01)"
      ],
      "id": "threaded-curtis"
    },
    {
      "cell_type": "markdown",
      "metadata": {
        "id": "decent-selling"
      },
      "source": [
        "- See the [Deep Learning book section 7.1](https://www.deeplearningbook.org/contents/regularization.html) for more on the math\n"
      ],
      "id": "decent-selling"
    },
    {
      "cell_type": "markdown",
      "metadata": {
        "id": "hearing-melbourne"
      },
      "source": [
        "# Data Augmentation <a id=\"augment\" />\n",
        "\n",
        "- Data augmentation is taking the existing data and creating a larger effective dataset by creating new datapoints from the old data, using the same labels\n",
        "- So, e.g. we could flip an image: we want the flipped image to be given the same label as the non-flipped image, so the network needs to be robust against flips\n",
        "- The overall idea is that if the network isn't given the exact same image, it becomes harder for the network to memorize, so augmentation is encouraging the network to learn to generalize\n",
        "- Other common *transformations* include:\n",
        "  - Horizontal or vertical flipping\n",
        "  - Image Rotation\n",
        "  - Random erasing (randomly zero out part of the image, i.e. set some part of the image to black, the size you black out can also vary within bounds you give)\n",
        "  - Color jitter (turn up the brightness or contrast)\n",
        "- In pytorch, you could add this in as part of the data loader, and image augmentations live in `torchvision.transforms`\n",
        "  - Generally, the transformations take at least one parameter, which is the *probability* that a transformation will be applied\n",
        "  - Each batch through the data will therefore use different transformations, so the network doesn't see the exact same images each batch\n",
        "  \n",
        "More transforms and help: [pytorch transforms docs](https://pytorch.org/vision/stable/transforms.html)"
      ],
      "id": "hearing-melbourne"
    },
    {
      "cell_type": "code",
      "metadata": {
        "id": "rotary-induction",
        "colab": {
          "base_uri": "https://localhost:8080/",
          "height": 1000,
          "referenced_widgets": [
            "aabde70600fb4928afc3c5cd1821394e",
            "09ae89d8950f4d4da5be2d0c439a773c",
            "d64ebc25584b4019a9523502a6175984",
            "77f667dbff464438a70291abd3a785ce",
            "91f6f5befa7a4c1082891e8c7885e0e6",
            "35b2028b343d4063912282f26427c0ca",
            "f2cfb6fb49764d0fa205fd8b8edb8a64",
            "33007fac932e450493a366eda9d73f04",
            "7aadcfcb91014756ab380deffe545bff",
            "79639249ebd44b03a87dbd39d94db58d",
            "0b28d757df2d42c6bd6859da79023caa",
            "4ea4a7cd21c143908c4d521ffa09aeaa",
            "5c0b877ab95843e7b6f63cc7e571d7b6",
            "46930b8f6eb44dffa3c06433f7471c07",
            "a8f5a6bb99de4fc6af790e6273fc6c15",
            "39bba98c11be40e1a162626b50067c7a",
            "1e20e559f33749cdacae638c91b1a81f",
            "c39101432fd54def9a2227c0fcf38823",
            "74540ecf9c8b418fa7f68dcc7d492b16",
            "33cf862af819408dbae35f63bb6bea73",
            "2170a0604afd4419b060d07acd4bba50",
            "3610d8e1a1924c1a92e4c36d4c5dec22",
            "1f5c38becbe441229b7ba3f66eb54ab9",
            "b667897c2a6042a191ffc935be866fda",
            "9c31ec54f7aa4a889581c9c7e2d23421",
            "3fc0ef34721b43168419b2f7ec828461",
            "237f7c709fa94e639503479dcd202e7c",
            "77403bab33154f95aa79e0e16931fda3",
            "69e7002707804c1ba9cc55288009fc33",
            "ad9814eea6bd4f569c94a47c82ee18a3",
            "2e4343bef6d041a3938893fd6dc074b6",
            "f1fce7db44bf44749b97c18aa61fb1af"
          ]
        },
        "outputId": "43948c9c-be19-4e61-f849-1eb1c47db603"
      },
      "source": [
        "import torch\n",
        "from torch.utils.data import Dataset\n",
        "from torchvision import datasets\n",
        "from torchvision.transforms import ToTensor, Compose, RandomHorizontalFlip, RandomVerticalFlip, RandomErasing\n",
        "import matplotlib.pyplot as plt\n",
        "\n",
        "training = Compose([ToTensor(), RandomVerticalFlip(0.5), RandomHorizontalFlip(0.5), RandomErasing(0.5)])\n",
        "training_data = datasets.FashionMNIST(\n",
        "    root=\"/data/torchvision\",\n",
        "    train=True,\n",
        "    download=True,\n",
        "    transform=training\n",
        ")\n",
        "\n",
        "test_data = datasets.FashionMNIST(\n",
        "    root=\"/data/torchvision\",\n",
        "    train=False,\n",
        "    download=True,\n",
        "    transform=ToTensor()\n",
        ")\n",
        "\n",
        "plt.figure(figsize=(8,8))\n",
        "for i in range(16):\n",
        "    plt.subplot(4,4,i+1)\n",
        "    # every time we load the data, different transformations are applied at random\n",
        "    # they should all be labelled the same however\n",
        "    plt.imshow(training_data[0][0].view(28,28), cmap='gray')"
      ],
      "id": "rotary-induction",
      "execution_count": 1,
      "outputs": [
        {
          "output_type": "stream",
          "text": [
            "Downloading http://fashion-mnist.s3-website.eu-central-1.amazonaws.com/train-images-idx3-ubyte.gz\n",
            "Downloading http://fashion-mnist.s3-website.eu-central-1.amazonaws.com/train-images-idx3-ubyte.gz to /data/torchvision/FashionMNIST/raw/train-images-idx3-ubyte.gz\n"
          ],
          "name": "stdout"
        },
        {
          "output_type": "display_data",
          "data": {
            "application/vnd.jupyter.widget-view+json": {
              "model_id": "aabde70600fb4928afc3c5cd1821394e",
              "version_minor": 0,
              "version_major": 2
            },
            "text/plain": [
              "HBox(children=(FloatProgress(value=0.0, max=26421880.0), HTML(value='')))"
            ]
          },
          "metadata": {
            "tags": []
          }
        },
        {
          "output_type": "stream",
          "text": [
            "\n",
            "Extracting /data/torchvision/FashionMNIST/raw/train-images-idx3-ubyte.gz to /data/torchvision/FashionMNIST/raw\n",
            "\n",
            "Downloading http://fashion-mnist.s3-website.eu-central-1.amazonaws.com/train-labels-idx1-ubyte.gz\n",
            "Downloading http://fashion-mnist.s3-website.eu-central-1.amazonaws.com/train-labels-idx1-ubyte.gz to /data/torchvision/FashionMNIST/raw/train-labels-idx1-ubyte.gz\n"
          ],
          "name": "stdout"
        },
        {
          "output_type": "display_data",
          "data": {
            "application/vnd.jupyter.widget-view+json": {
              "model_id": "7aadcfcb91014756ab380deffe545bff",
              "version_minor": 0,
              "version_major": 2
            },
            "text/plain": [
              "HBox(children=(FloatProgress(value=0.0, max=29515.0), HTML(value='')))"
            ]
          },
          "metadata": {
            "tags": []
          }
        },
        {
          "output_type": "stream",
          "text": [
            "\n",
            "Extracting /data/torchvision/FashionMNIST/raw/train-labels-idx1-ubyte.gz to /data/torchvision/FashionMNIST/raw\n",
            "\n",
            "Downloading http://fashion-mnist.s3-website.eu-central-1.amazonaws.com/t10k-images-idx3-ubyte.gz\n",
            "Downloading http://fashion-mnist.s3-website.eu-central-1.amazonaws.com/t10k-images-idx3-ubyte.gz to /data/torchvision/FashionMNIST/raw/t10k-images-idx3-ubyte.gz\n"
          ],
          "name": "stdout"
        },
        {
          "output_type": "display_data",
          "data": {
            "application/vnd.jupyter.widget-view+json": {
              "model_id": "1e20e559f33749cdacae638c91b1a81f",
              "version_minor": 0,
              "version_major": 2
            },
            "text/plain": [
              "HBox(children=(FloatProgress(value=0.0, max=4422102.0), HTML(value='')))"
            ]
          },
          "metadata": {
            "tags": []
          }
        },
        {
          "output_type": "stream",
          "text": [
            "\n",
            "Extracting /data/torchvision/FashionMNIST/raw/t10k-images-idx3-ubyte.gz to /data/torchvision/FashionMNIST/raw\n",
            "\n",
            "Downloading http://fashion-mnist.s3-website.eu-central-1.amazonaws.com/t10k-labels-idx1-ubyte.gz\n",
            "Downloading http://fashion-mnist.s3-website.eu-central-1.amazonaws.com/t10k-labels-idx1-ubyte.gz to /data/torchvision/FashionMNIST/raw/t10k-labels-idx1-ubyte.gz\n"
          ],
          "name": "stdout"
        },
        {
          "output_type": "display_data",
          "data": {
            "application/vnd.jupyter.widget-view+json": {
              "model_id": "9c31ec54f7aa4a889581c9c7e2d23421",
              "version_minor": 0,
              "version_major": 2
            },
            "text/plain": [
              "HBox(children=(FloatProgress(value=0.0, max=5148.0), HTML(value='')))"
            ]
          },
          "metadata": {
            "tags": []
          }
        },
        {
          "output_type": "stream",
          "text": [
            "\n",
            "Extracting /data/torchvision/FashionMNIST/raw/t10k-labels-idx1-ubyte.gz to /data/torchvision/FashionMNIST/raw\n",
            "\n",
            "Processing...\n",
            "Done!\n"
          ],
          "name": "stdout"
        },
        {
          "output_type": "stream",
          "text": [
            "/usr/local/lib/python3.7/dist-packages/torchvision/datasets/mnist.py:502: UserWarning: The given NumPy array is not writeable, and PyTorch does not support non-writeable tensors. This means you can write to the underlying (supposedly non-writeable) NumPy array using the tensor. You may want to copy the array to protect its data or make it writeable before converting it to a tensor. This type of warning will be suppressed for the rest of this program. (Triggered internally at  /pytorch/torch/csrc/utils/tensor_numpy.cpp:143.)\n",
            "  return torch.from_numpy(parsed.astype(m[2], copy=False)).view(*s)\n"
          ],
          "name": "stderr"
        },
        {
          "output_type": "display_data",
          "data": {
            "image/png": "[encoded data removed]",
            "text/plain": [
              "<Figure size 576x576 with 16 Axes>"
            ]
          },
          "metadata": {
            "tags": [],
            "needs_background": "light"
          }
        }
      ]
    },
    {
      "cell_type": "markdown",
      "metadata": {
        "id": "harmful-karma"
      },
      "source": [
        "# Dropout <a id=\"dropout\" />"
      ],
      "id": "harmful-karma"
    },
    {
      "cell_type": "code",
      "metadata": {
        "id": "seasonal-composition",
        "outputId": "d25ae402-946a-44fc-cef3-4d73c71429af"
      },
      "source": [
        "from IPython.display import Image\n",
        "Image('dropout.png')"
      ],
      "id": "seasonal-composition",
      "execution_count": null,
      "outputs": [
        {
          "output_type": "execute_result",
          "data": {
            "image/png": "[encoded data removed]",
            "text/plain": [
              "<IPython.core.display.Image object>"
            ]
          },
          "metadata": {
            "tags": []
          },
          "execution_count": 2
        }
      ]
    },
    {
      "cell_type": "markdown",
      "metadata": {
        "id": "casual-sampling"
      },
      "source": [
        "- *Dropout* is a simple but powerful idea: while training, randomly\n",
        "  set the outputs of some nodes to 0\n",
        "  - Effectively, this removes them from the model\n",
        "  - Forces the model to look for robust features: the features used in\n",
        "    optimizing an individual datapoint will be different every epoch\n",
        "- We can think of dropout as creating an ensemble of models which\n",
        "  share parameters, and randomly selecting the exact model each\n",
        "  training step, the same model will never see a datapoint twice\n",
        "- This ensemble idea can be related to *boosting* techniques, see the\n",
        "  Deep Learning Book for details\n",
        "\n",
        "See also: [Andrew Ng's Dropout lecture](https://www.youtube.com/watch?v=ARq74QuavAo)\n",
        "\n",
        "# Dropout in Pytorch\n",
        "\n",
        "- Dropout is easily applied in pytorch, just add a `torch.nn.Dropout`\n",
        "- It takes one hyperparameter: the fraction of nodes to be set to zero\n",
        "- Here now we see the importance of `train()` and `eval()`, during\n",
        "  training, `Dropout` should be working, but when we are applying the\n",
        "  network, we want the full power of the network, so we turn Dropout off\n",
        "- It also increases the output of the remaining nodes to compensate\n",
        "  for the lowering of the inputs of the remaining portions of the network\n",
        "- I.e. we don't want to set nodes to 0 randomly when using the network!"
      ],
      "id": "casual-sampling"
    },
    {
      "cell_type": "code",
      "metadata": {
        "id": "roman-flashing",
        "colab": {
          "base_uri": "https://localhost:8080/"
        },
        "outputId": "1f79804f-5162-49f4-bf87-4a1dbb635cd2"
      },
      "source": [
        "import torch\n",
        "dropout = torch.nn.Dropout(0.5) # Creates the layer\n",
        "x = torch.randn((6))\n",
        "print(\"Initial:\", x)\n",
        "print(\"Dropout:\", dropout(x)) # Use the layer\n",
        "print(\"Dropout:\", dropout(x))"
      ],
      "id": "roman-flashing",
      "execution_count": null,
      "outputs": [
        {
          "output_type": "stream",
          "text": [
            "Initial: tensor([-1.1555,  0.7166,  0.3103, -0.1631,  0.8782,  0.2867])\n",
            "Dropout: tensor([-0.0000, 1.4332, 0.6207, -0.0000, 0.0000, 0.0000])\n",
            "Dropout: tensor([-2.3110,  1.4332,  0.6207, -0.0000,  1.7563,  0.0000])\n"
          ],
          "name": "stdout"
        }
      ]
    },
    {
      "cell_type": "markdown",
      "metadata": {
        "id": "weekly-diesel"
      },
      "source": [
        "# Dropout Pros and Cons\n",
        "\n",
        "- The good: easy to understand, easy to implement, very fast, very\n",
        "  good for avoiding overtraining\n",
        "- The bad: the loss function is no longer well-defined: you're\n",
        "  actually comparing different models with every iteration, not\n",
        "  obvious that combining these random models together\n",
        "- Care needs to be taken interpreting plots of loss versus training\n",
        "  time, in particular, training loss should be bigger than testing\n",
        "  loss, can no longer use training-testing loss as an absolute test of\n",
        "  overtraining\n",
        "\n",
        "# BatchNorm <a id=\"batchnorm\" />\n",
        "\n",
        "- In general, its better to have outputs of similar size flowing\n",
        "  through the network, generally we normalize input data between 0 and 1\n",
        "- The idea is, as we train deep networks, changes in the upper layers\n",
        "  means the bottom layers will see very different values, and so\n",
        "  updating upper and lower layers at the same time can be an issue\n",
        "  - The change in the upper layer may act in reverse to the change in\n",
        "    the lower layer, cancelling out the training, or increasing the values too far\n",
        "  - And in particular, changes in the upper layer will affect all layers below, giving a cascading effect of changes which makes setting the upper layers correctly very difficult in deep networks\n",
        "- In batch normalization, we try to stop these effects happening by\n",
        "  forcing the output of a node to follow a Gaussian\n",
        "- In training, we replace the output of a layer $\\mathbf{H}$ of a minibatch with\n",
        "  - $\\mathbf{H'} = (\\mathbf{H} - \\mu) / \\sigma$ where $\\mu=\\frac{1}{m}\\sum_i H_i$, $\\sigma = \\sqrt{\\epsilon + \\frac{1}{m}\\sum_i (H_i - \\mu)^2}$\n",
        "  - That is, we normalize the batch to follow a unit normal distribution\n",
        "  - Note that $\\mu$ and $\\sigma$ will change every batch (!)\n",
        "  - The normalization is done per channel (that is, the sum to find $\\mu$ and $\\sigma$ and reweight is done by summing over the NxHxW block for each channel where the batch has size NxCxHxW at the layer we are normalizing)\n",
        "- We can also replace H by $\\gamma \\mathbf{H'} + \\beta$, where\n",
        "  $\\gamma$ and $\\beta$ will be optimized during training (pytorch does this)\n",
        "  - This gives the same properties as our unit normal, but can\n",
        "    have some training dynamics since we pass the output\n",
        "    to a non-linear activation\n",
        "- We effectively checkpoint a layer to known statistics each batch, so we don't need to worry so much about the cascading effects from the training of the layers above\n",
        "\n",
        "Andrew Ng on BatchNorm:\n",
        "- [Part 1](https://www.youtube.com/watch?v=tNIpEZLv_eg)\n",
        "- [Part 2](https://www.youtube.com/watch?v=em6dfRxYkYU)\n",
        "- [Part 3 (why does BatchNorm work)](https://www.youtube.com/watch?v=nUUqwaxLnWs)\n",
        "- [Part 4 (BatchNorm @ test time)](https://www.youtube.com/watch?v=5qefnAek8OA)"
      ],
      "id": "weekly-diesel"
    },
    {
      "cell_type": "code",
      "metadata": {
        "id": "miniature-satellite",
        "outputId": "edb7b574-3282-413a-ffca-fd94684968d7"
      },
      "source": [
        "Image('batch-norm.png')"
      ],
      "id": "miniature-satellite",
      "execution_count": null,
      "outputs": [
        {
          "output_type": "execute_result",
          "data": {
            "image/png": "[encoded data removed]",
            "text/plain": [
              "<IPython.core.display.Image object>"
            ]
          },
          "metadata": {
            "tags": []
          },
          "execution_count": 3
        }
      ]
    },
    {
      "cell_type": "markdown",
      "metadata": {
        "id": "informative-opera"
      },
      "source": [
        "# BatchNorm continued\n",
        "\n",
        "- When we use the network (or check properties in the testing phase),\n",
        "  we don't want to recalculate $\\mu$ and $\\sigma$ like we did in training\n",
        "  - This would make the output non-deterministic, every time we change\n",
        "    the batch a given datapoint is in, it would change the output\n",
        "  - Or maybe we have no batches, and just process data one by one\n",
        "- Instead, during training we keep a weighted average of $\\mu$ and\n",
        "  $\\sigma$ (decaying so that old values when different weights were used\n",
        "  can be discarded) and apply those averaged $\\mu$ and $\\sigma$ during testing\n",
        "- So, we avoid tying our parameter activations in lower levels to the\n",
        "  exact output values in the upper levels, which is good for training,\n",
        "  but we also arrange to keep a set of values which we can later apply to\n",
        "  testing\n",
        "- BatchNorm is almost always used today because it speeds up training\n",
        "  immensely, it is still a matter of debate as to why it works so well though!\n",
        "  - The initial idea outlined above that BatchNorm solves the\n",
        "    \"internal covariate shift\" problem has been disputed\n",
        "  - Its not disputed that BatchNorm improves training though!\n",
        "\n",
        "# BatchNorm in PyTorch\n",
        "\n",
        "- For batch normalizing a convolutional layer, use `BatchNorm2d`, it\n",
        "  takes in 1 parameter which is the number of output channels"
      ],
      "id": "informative-opera"
    },
    {
      "cell_type": "code",
      "metadata": {
        "id": "unauthorized-newark"
      },
      "source": [
        "class BatchNet(torch.nn.Module):\n",
        "  def __init__(self):\n",
        "    ...\n",
        "    self.c2 = torch.nn.Conv2d(16,32,3) # outputs 32 3x3 filters\n",
        "    # input parameter should equal the output channels\n",
        "    self.bn2 = torch.nn.BatchNorm2d(32)\n",
        "    ...\n",
        "  def forward(self, x):\n",
        "    ...\n",
        "    # can try applying before or after the activation\n",
        "    x=self.bn2(torch.relu(self.c2(x)))\n",
        "    ..."
      ],
      "id": "unauthorized-newark",
      "execution_count": null,
      "outputs": []
    },
    {
      "cell_type": "markdown",
      "metadata": {
        "id": "offensive-alarm"
      },
      "source": [
        "# Exercises <a id=\"exercises\" />\n",
        "\n",
        "\n",
        "- There are many, many, many techniques that people have invented for\n",
        "  regularization. We've only covered a fraction. There's no magic\n",
        "  bullet, you have to try a few methods with your data to figure out\n",
        "  what will work best.\n",
        "- We will train a few convolutional networks in pytorch trying out some\n",
        "  of the techniques we learned today. Don't forget to switch between\n",
        "  `train` and `eval`!\n",
        "\n",
        "0. Load the CIFAR100 into a dataloader ready to be used for\n",
        "PyTorch. Check the last lecture exercises if you need a reminder."
      ],
      "id": "offensive-alarm"
    },
    {
      "cell_type": "code",
      "metadata": {
        "id": "catholic-traffic",
        "colab": {
          "base_uri": "https://localhost:8080/",
          "height": 117,
          "referenced_widgets": [
            "27f0106d006f479a9a5bdcb46294a296",
            "6e4ed3c33d3e42fba42242401ebd4aa6",
            "cc444815a02b480eb5b8f8bf6a51c7a6",
            "ce8e6bc51cee4a3197fb92ae1c15f663",
            "5ff507b05745498d9941e5ddc06d3770",
            "2211e6bf4de14db3870ad3d9295e0c11",
            "a209edfa2af4429fa6bbbfec76f62141",
            "329eeac8be3b45ffac970ec9f73b3d98"
          ]
        },
        "outputId": "ded0294d-4ef1-4053-dbaf-336bcbf1475d"
      },
      "source": [
        "import torch as th\n",
        "import torchvision as tv\n",
        "from torch.utils.data import DataLoader\n",
        "import torchvision.transforms as transforms\n",
        "from torch.utils.data import DataLoader\n",
        "from torchvision import datasets, transforms\n",
        "\n",
        "import matplotlib.pyplot as plt\n",
        "import numpy as np\n",
        "from collections import defaultdict\n",
        "import matplotlib.pyplot as plt\n",
        "\n",
        "device = 'cuda'\n",
        "trans = tv.transforms.ToTensor()\n",
        "train = tv.datasets.CIFAR100('/data/torchvision', train=True, download=True, transform=trans)\n",
        "test = tv.datasets.CIFAR100('/data/torchvision', train=False, download=True, transform=trans)\n",
        "\n",
        "trainloader = th.utils.data.DataLoader(train, batch_size=64)\n",
        "testloader = th.utils.data.DataLoader(test, batch_size=64)\n",
        "\n",
        "import torch.nn as nn\n",
        "import torch.nn.functional as F"
      ],
      "id": "catholic-traffic",
      "execution_count": 2,
      "outputs": [
        {
          "output_type": "stream",
          "text": [
            "Downloading https://www.cs.toronto.edu/~kriz/cifar-100-python.tar.gz to /data/torchvision/cifar-100-python.tar.gz\n"
          ],
          "name": "stdout"
        },
        {
          "output_type": "display_data",
          "data": {
            "application/vnd.jupyter.widget-view+json": {
              "model_id": "27f0106d006f479a9a5bdcb46294a296",
              "version_minor": 0,
              "version_major": 2
            },
            "text/plain": [
              "HBox(children=(FloatProgress(value=0.0, max=169001437.0), HTML(value='')))"
            ]
          },
          "metadata": {
            "tags": []
          }
        },
        {
          "output_type": "stream",
          "text": [
            "\n",
            "Extracting /data/torchvision/cifar-100-python.tar.gz to /data/torchvision\n",
            "Files already downloaded and verified\n"
          ],
          "name": "stdout"
        }
      ]
    },
    {
      "cell_type": "markdown",
      "metadata": {
        "id": "northern-livestock"
      },
      "source": [
        "1. Create and train a CNN on the CIFAR100, for this first training,\n",
        "don't use any of the regularization techniques. Make the model as\n",
        "simple or complex as you like, but use at least three convolution\n",
        "layers and one fully connected hidden layer. Try to make it big enough\n",
        "to be possible to overtrain, but small enough to run in a reasonable\n",
        "time. Keep track of the training and testing loss per epoch."
      ],
      "id": "northern-livestock"
    },
    {
      "cell_type": "code",
      "metadata": {
        "id": "gorgeous-screening",
        "colab": {
          "base_uri": "https://localhost:8080/"
        },
        "outputId": "65e2b9a7-ccdf-4590-8013-92d7378c3ee1"
      },
      "source": [
        "\n",
        "class Net(nn.Module):\n",
        "    def __init__(self):\n",
        "        super().__init__()\n",
        "        self.conv1 = nn.Conv2d(3, 6, 5)\n",
        "        self.pool = nn.MaxPool2d(2, 2)\n",
        "        self.conv2 = nn.Conv2d(6, 16, 5)\n",
        "        self.fc1 = nn.Linear(16 * 5 * 5, 120)\n",
        "        self.fc2 = nn.Linear(120, 84)\n",
        "        self.fc3 = nn.Linear(84, 100)\n",
        "\n",
        "    def forward(self, x):\n",
        "        x = self.pool(F.relu(self.conv1(x)))\n",
        "        x = self.pool(F.relu(self.conv2(x)))\n",
        "        x = x.view(-1, 16 * 5 * 5)\n",
        "        x = F.relu(self.fc1(x))\n",
        "        x = F.relu(self.fc2(x))\n",
        "        x = self.fc3(x)\n",
        "        return x\n",
        "\n",
        "\n",
        "net = Net()\n",
        "net.to(device)\n",
        "\n",
        "\n",
        "\n",
        "import torch.optim as optim\n",
        "\n",
        "criterion = nn.CrossEntropyLoss()\n",
        "optimizer = optim.SGD(net.parameters(), lr=0.001, momentum=0.9)\n",
        "\n",
        "for epoch in range(5): \n",
        "    running_loss = 0.0\n",
        "    for i, data in enumerate(trainloader):\n",
        "        inputs, labels = data[0].to(device), data[1].to(device)\n",
        "        optimizer.zero_grad()\n",
        "        outputs = net(inputs)\n",
        "        loss = criterion(outputs, labels)\n",
        "        loss.backward()\n",
        "        optimizer.step()\n",
        "\n",
        "        running_loss += loss.item()\n",
        "        if i % 782 == 781:    # print every 2000 mini-batches\n",
        "            print('[%d, %5d] loss: %.3f' %\n",
        "                  (epoch + 1, i + 1, running_loss / 782))\n",
        "            running_loss = 0.0\n",
        "\n",
        "print('Finished Training')\n",
        "\n"
      ],
      "id": "gorgeous-screening",
      "execution_count": 3,
      "outputs": [
        {
          "output_type": "stream",
          "text": [
            "[1,   782] loss: 4.607\n",
            "[2,   782] loss: 4.605\n",
            "[3,   782] loss: 4.602\n",
            "[4,   782] loss: 4.590\n",
            "[5,   782] loss: 4.477\n",
            "Finished Training\n"
          ],
          "name": "stdout"
        }
      ]
    },
    {
      "cell_type": "markdown",
      "metadata": {
        "id": "contrary-wales"
      },
      "source": [
        "2. Create a new instance of your model and retrain with weight_decay set\n",
        "to a non-zero value. Does the training speed change? Does the final\n",
        "testing loss change (include early stopping)? (To answer these\n",
        "questions make a plot of training and testing with and without\n",
        "weight_decay, be sure to plot the curves on the same plot to compare\n",
        "easily, and include a legend and labels)"
      ],
      "id": "contrary-wales"
    },
    {
      "cell_type": "code",
      "metadata": {
        "id": "suburban-smooth",
        "colab": {
          "base_uri": "https://localhost:8080/",
          "height": 1000
        },
        "outputId": "627b1f60-aa05-4add-b3ac-7c4ce9f7bbe7"
      },
      "source": [
        "\n",
        "net2 = Net()\n",
        "net2.to(device)\n",
        "\n",
        "import torch.optim as optim\n",
        "\n",
        "criterion = nn.CrossEntropyLoss()\n",
        "optimizer = optim.SGD(net2.parameters(), lr=0.001, momentum=0.9, weight_decay=0.01)\n",
        "#weight decay 바꿔도 한계가 있는가. \n",
        "\n",
        "\n",
        "train_acc = []\n",
        "test_acc = []\n",
        "total_steps = 3910\n",
        "\n",
        "\n",
        "for epoch in range(5): \n",
        "    running_loss = 0.0\n",
        "    for i, data in enumerate(trainloader):\n",
        "        inputs, labels = data[0].to(device), data[1].to(device)\n",
        "        optimizer.zero_grad()\n",
        "        outputs = net(inputs)\n",
        "        loss = criterion(outputs, labels)\n",
        "        loss.backward()\n",
        "        optimizer.step()\n",
        "\n",
        "        running_loss += loss.item()\n",
        "        if i % 782 == 781:    # print every 2000 mini-batches\n",
        "            print('[%d, %5d] loss: %.3f' %\n",
        "                  (epoch + 1, i + 1, running_loss / 782))\n",
        "            running_loss = 0.0\n",
        "\n",
        "        # for accuracy(train)\n",
        "        _, indices = outputs.max(dim=1)\n",
        "        accuracy = (indices == labels).int().sum() / len(indices)\n",
        "        train_acc.append(accuracy)\n",
        "        \n",
        "        total_steps += 1\n",
        "    \n",
        "    with th.no_grad():\n",
        "        for i, data in enumerate(testloader):\n",
        "            inputs, labels = data[0].to(device), data[1].to(device)\n",
        "            outputs = net(inputs)\n",
        "            _, indices = outputs.max(dim=1)\n",
        "            accuracy = (indices == labels).int().sum() / len(indices)\n",
        "            test_acc.append(accuracy)\n",
        "\n",
        "\n",
        "\n",
        "print('Finished Training')\n",
        "\n",
        "\n",
        "\n",
        "\n",
        "\n",
        "# Plot learning curve (accuracy)\n",
        "steps1 = np.arange(total_steps)\n",
        "\n",
        "train_acc = th.stack(train_acc).detach().cpu().numpy()\n",
        "test_acc = th.stack(test_acc).detach().cpu().numpy()\n",
        "\n",
        "plt.xlabel('Steps')\n",
        "plt.ylabel('Accuracy')\n",
        "plt.plot(steps, train_acc, 'r', label='train')\n",
        "plt.plot(steps, test_acc, 'b', label='test')\n",
        "plt.title('Learning curve')\n",
        "plt.legend(loc='upper right')\n",
        "plt.show()  \n",
        "\n",
        "    # # test accuracy (total)\n",
        "    # with th.no_grad():\n",
        "    #   net.eval()\n",
        "    #   total_sum = 0\n",
        "    #   total_len = 0\n",
        "    #   for data, target in testloader:\n",
        "    #     opt.zero_grad()\n",
        "    #     output = net(data)\n",
        "    #     _, indices = output.max(dim=1)\n",
        "    #     total_sum += (indices == target).int().sum()\n",
        "    #     total_len += len(indices)\n",
        "    #   print('test accuracy(total): %.3f' % (total_sum/total_len))\n",
        "      \n"
      ],
      "id": "suburban-smooth",
      "execution_count": 9,
      "outputs": [
        {
          "output_type": "stream",
          "text": [
            "[1,   782] loss: 4.279\n",
            "[2,   782] loss: 4.279\n",
            "[3,   782] loss: 4.279\n",
            "[4,   782] loss: 4.279\n",
            "[5,   782] loss: 4.279\n",
            "Finished Training\n"
          ],
          "name": "stdout"
        },
        {
          "output_type": "error",
          "ename": "ValueError",
          "evalue": "ignored",
          "traceback": [
            "\u001b[0;31m---------------------------------------------------------------------------\u001b[0m",
            "\u001b[0;31mValueError\u001b[0m                                Traceback (most recent call last)",
            "\u001b[0;32m<ipython-input-9-042aa3195442>\u001b[0m in \u001b[0;36m<module>\u001b[0;34m()\u001b[0m\n\u001b[1;32m     63\u001b[0m \u001b[0mplt\u001b[0m\u001b[0;34m.\u001b[0m\u001b[0mylabel\u001b[0m\u001b[0;34m(\u001b[0m\u001b[0;34m'Accuracy'\u001b[0m\u001b[0;34m)\u001b[0m\u001b[0;34m\u001b[0m\u001b[0;34m\u001b[0m\u001b[0m\n\u001b[1;32m     64\u001b[0m \u001b[0mplt\u001b[0m\u001b[0;34m.\u001b[0m\u001b[0mplot\u001b[0m\u001b[0;34m(\u001b[0m\u001b[0msteps\u001b[0m\u001b[0;34m,\u001b[0m \u001b[0mtrain_acc\u001b[0m\u001b[0;34m,\u001b[0m \u001b[0;34m'r'\u001b[0m\u001b[0;34m,\u001b[0m \u001b[0mlabel\u001b[0m\u001b[0;34m=\u001b[0m\u001b[0;34m'train'\u001b[0m\u001b[0;34m)\u001b[0m\u001b[0;34m\u001b[0m\u001b[0;34m\u001b[0m\u001b[0m\n\u001b[0;32m---> 65\u001b[0;31m \u001b[0mplt\u001b[0m\u001b[0;34m.\u001b[0m\u001b[0mplot\u001b[0m\u001b[0;34m(\u001b[0m\u001b[0msteps\u001b[0m\u001b[0;34m,\u001b[0m \u001b[0mtest_acc\u001b[0m\u001b[0;34m,\u001b[0m \u001b[0;34m'b'\u001b[0m\u001b[0;34m,\u001b[0m \u001b[0mlabel\u001b[0m\u001b[0;34m=\u001b[0m\u001b[0;34m'test'\u001b[0m\u001b[0;34m)\u001b[0m\u001b[0;34m\u001b[0m\u001b[0;34m\u001b[0m\u001b[0m\n\u001b[0m\u001b[1;32m     66\u001b[0m \u001b[0mplt\u001b[0m\u001b[0;34m.\u001b[0m\u001b[0mtitle\u001b[0m\u001b[0;34m(\u001b[0m\u001b[0;34m'Learning curve'\u001b[0m\u001b[0;34m)\u001b[0m\u001b[0;34m\u001b[0m\u001b[0;34m\u001b[0m\u001b[0m\n\u001b[1;32m     67\u001b[0m \u001b[0mplt\u001b[0m\u001b[0;34m.\u001b[0m\u001b[0mlegend\u001b[0m\u001b[0;34m(\u001b[0m\u001b[0mloc\u001b[0m\u001b[0;34m=\u001b[0m\u001b[0;34m'upper right'\u001b[0m\u001b[0;34m)\u001b[0m\u001b[0;34m\u001b[0m\u001b[0;34m\u001b[0m\u001b[0m\n",
            "\u001b[0;32m/usr/local/lib/python3.7/dist-packages/matplotlib/pyplot.py\u001b[0m in \u001b[0;36mplot\u001b[0;34m(scalex, scaley, data, *args, **kwargs)\u001b[0m\n\u001b[1;32m   2761\u001b[0m     return gca().plot(\n\u001b[1;32m   2762\u001b[0m         *args, scalex=scalex, scaley=scaley, **({\"data\": data} if data\n\u001b[0;32m-> 2763\u001b[0;31m         is not None else {}), **kwargs)\n\u001b[0m\u001b[1;32m   2764\u001b[0m \u001b[0;34m\u001b[0m\u001b[0m\n\u001b[1;32m   2765\u001b[0m \u001b[0;34m\u001b[0m\u001b[0m\n",
            "\u001b[0;32m/usr/local/lib/python3.7/dist-packages/matplotlib/axes/_axes.py\u001b[0m in \u001b[0;36mplot\u001b[0;34m(self, scalex, scaley, data, *args, **kwargs)\u001b[0m\n\u001b[1;32m   1645\u001b[0m         \"\"\"\n\u001b[1;32m   1646\u001b[0m         \u001b[0mkwargs\u001b[0m \u001b[0;34m=\u001b[0m \u001b[0mcbook\u001b[0m\u001b[0;34m.\u001b[0m\u001b[0mnormalize_kwargs\u001b[0m\u001b[0;34m(\u001b[0m\u001b[0mkwargs\u001b[0m\u001b[0;34m,\u001b[0m \u001b[0mmlines\u001b[0m\u001b[0;34m.\u001b[0m\u001b[0mLine2D\u001b[0m\u001b[0;34m)\u001b[0m\u001b[0;34m\u001b[0m\u001b[0;34m\u001b[0m\u001b[0m\n\u001b[0;32m-> 1647\u001b[0;31m         \u001b[0mlines\u001b[0m \u001b[0;34m=\u001b[0m \u001b[0;34m[\u001b[0m\u001b[0;34m*\u001b[0m\u001b[0mself\u001b[0m\u001b[0;34m.\u001b[0m\u001b[0m_get_lines\u001b[0m\u001b[0;34m(\u001b[0m\u001b[0;34m*\u001b[0m\u001b[0margs\u001b[0m\u001b[0;34m,\u001b[0m \u001b[0mdata\u001b[0m\u001b[0;34m=\u001b[0m\u001b[0mdata\u001b[0m\u001b[0;34m,\u001b[0m \u001b[0;34m**\u001b[0m\u001b[0mkwargs\u001b[0m\u001b[0;34m)\u001b[0m\u001b[0;34m]\u001b[0m\u001b[0;34m\u001b[0m\u001b[0;34m\u001b[0m\u001b[0m\n\u001b[0m\u001b[1;32m   1648\u001b[0m         \u001b[0;32mfor\u001b[0m \u001b[0mline\u001b[0m \u001b[0;32min\u001b[0m \u001b[0mlines\u001b[0m\u001b[0;34m:\u001b[0m\u001b[0;34m\u001b[0m\u001b[0;34m\u001b[0m\u001b[0m\n\u001b[1;32m   1649\u001b[0m             \u001b[0mself\u001b[0m\u001b[0;34m.\u001b[0m\u001b[0madd_line\u001b[0m\u001b[0;34m(\u001b[0m\u001b[0mline\u001b[0m\u001b[0;34m)\u001b[0m\u001b[0;34m\u001b[0m\u001b[0;34m\u001b[0m\u001b[0m\n",
            "\u001b[0;32m/usr/local/lib/python3.7/dist-packages/matplotlib/axes/_base.py\u001b[0m in \u001b[0;36m__call__\u001b[0;34m(self, *args, **kwargs)\u001b[0m\n\u001b[1;32m    214\u001b[0m                 \u001b[0mthis\u001b[0m \u001b[0;34m+=\u001b[0m \u001b[0margs\u001b[0m\u001b[0;34m[\u001b[0m\u001b[0;36m0\u001b[0m\u001b[0;34m]\u001b[0m\u001b[0;34m,\u001b[0m\u001b[0;34m\u001b[0m\u001b[0;34m\u001b[0m\u001b[0m\n\u001b[1;32m    215\u001b[0m                 \u001b[0margs\u001b[0m \u001b[0;34m=\u001b[0m \u001b[0margs\u001b[0m\u001b[0;34m[\u001b[0m\u001b[0;36m1\u001b[0m\u001b[0;34m:\u001b[0m\u001b[0;34m]\u001b[0m\u001b[0;34m\u001b[0m\u001b[0;34m\u001b[0m\u001b[0m\n\u001b[0;32m--> 216\u001b[0;31m             \u001b[0;32myield\u001b[0m \u001b[0;32mfrom\u001b[0m \u001b[0mself\u001b[0m\u001b[0;34m.\u001b[0m\u001b[0m_plot_args\u001b[0m\u001b[0;34m(\u001b[0m\u001b[0mthis\u001b[0m\u001b[0;34m,\u001b[0m \u001b[0mkwargs\u001b[0m\u001b[0;34m)\u001b[0m\u001b[0;34m\u001b[0m\u001b[0;34m\u001b[0m\u001b[0m\n\u001b[0m\u001b[1;32m    217\u001b[0m \u001b[0;34m\u001b[0m\u001b[0m\n\u001b[1;32m    218\u001b[0m     \u001b[0;32mdef\u001b[0m \u001b[0mget_next_color\u001b[0m\u001b[0;34m(\u001b[0m\u001b[0mself\u001b[0m\u001b[0;34m)\u001b[0m\u001b[0;34m:\u001b[0m\u001b[0;34m\u001b[0m\u001b[0;34m\u001b[0m\u001b[0m\n",
            "\u001b[0;32m/usr/local/lib/python3.7/dist-packages/matplotlib/axes/_base.py\u001b[0m in \u001b[0;36m_plot_args\u001b[0;34m(self, tup, kwargs)\u001b[0m\n\u001b[1;32m    340\u001b[0m \u001b[0;34m\u001b[0m\u001b[0m\n\u001b[1;32m    341\u001b[0m         \u001b[0;32mif\u001b[0m \u001b[0mx\u001b[0m\u001b[0;34m.\u001b[0m\u001b[0mshape\u001b[0m\u001b[0;34m[\u001b[0m\u001b[0;36m0\u001b[0m\u001b[0;34m]\u001b[0m \u001b[0;34m!=\u001b[0m \u001b[0my\u001b[0m\u001b[0;34m.\u001b[0m\u001b[0mshape\u001b[0m\u001b[0;34m[\u001b[0m\u001b[0;36m0\u001b[0m\u001b[0;34m]\u001b[0m\u001b[0;34m:\u001b[0m\u001b[0;34m\u001b[0m\u001b[0;34m\u001b[0m\u001b[0m\n\u001b[0;32m--> 342\u001b[0;31m             raise ValueError(f\"x and y must have same first dimension, but \"\n\u001b[0m\u001b[1;32m    343\u001b[0m                              f\"have shapes {x.shape} and {y.shape}\")\n\u001b[1;32m    344\u001b[0m         \u001b[0;32mif\u001b[0m \u001b[0mx\u001b[0m\u001b[0;34m.\u001b[0m\u001b[0mndim\u001b[0m \u001b[0;34m>\u001b[0m \u001b[0;36m2\u001b[0m \u001b[0;32mor\u001b[0m \u001b[0my\u001b[0m\u001b[0;34m.\u001b[0m\u001b[0mndim\u001b[0m \u001b[0;34m>\u001b[0m \u001b[0;36m2\u001b[0m\u001b[0;34m:\u001b[0m\u001b[0;34m\u001b[0m\u001b[0;34m\u001b[0m\u001b[0m\n",
            "\u001b[0;31mValueError\u001b[0m: x and y must have same first dimension, but have shapes (3910,) and (785,)"
          ]
        },
        {
          "output_type": "display_data",
          "data": {
            "image/png": "[encoded data removed]",
            "text/plain": [
              "<Figure size 432x288 with 1 Axes>"
            ]
          },
          "metadata": {
            "tags": [],
            "needs_background": "light"
          }
        }
      ]
    },
    {
      "cell_type": "code",
      "metadata": {
        "id": "textile-persian"
      },
      "source": [
        ""
      ],
      "id": "textile-persian",
      "execution_count": null,
      "outputs": []
    },
    {
      "cell_type": "markdown",
      "metadata": {
        "id": "christian-difference"
      },
      "source": [
        "3. Add dropout layers into your network after the convolutional\n",
        "layers. How does the training and testing speed compare? How about the\n",
        "overall result? (compare as for the previous questions) You may need to \n",
        "adjust the learning rate to get the best performance."
      ],
      "id": "christian-difference"
    },
    {
      "cell_type": "code",
      "metadata": {
        "id": "controlled-source"
      },
      "source": [
        ""
      ],
      "id": "controlled-source",
      "execution_count": null,
      "outputs": []
    },
    {
      "cell_type": "code",
      "metadata": {
        "id": "printable-macro"
      },
      "source": [
        ""
      ],
      "id": "printable-macro",
      "execution_count": null,
      "outputs": []
    },
    {
      "cell_type": "markdown",
      "metadata": {
        "id": "alert-disclosure"
      },
      "source": [
        "4. Finally try adding BatchNorm2d layers between the convolutions and\n",
        "   the relu's (instead of Dropout, BatchNorm and Dropout typically\n",
        "   don't play nice together). How does the training and testing speed\n",
        "   compare? How about the overall result? (compare as for the previous\n",
        "   questions) [You might also want to reload the dataset with some data augmentations to stop the network quickly overtraining!]"
      ],
      "id": "alert-disclosure"
    },
    {
      "cell_type": "code",
      "metadata": {
        "id": "charged-trance"
      },
      "source": [
        ""
      ],
      "id": "charged-trance",
      "execution_count": null,
      "outputs": []
    },
    {
      "cell_type": "code",
      "metadata": {
        "id": "different-briefing"
      },
      "source": [
        ""
      ],
      "id": "different-briefing",
      "execution_count": null,
      "outputs": []
    },
    {
      "cell_type": "markdown",
      "metadata": {
        "id": "marine-brunswick"
      },
      "source": [
        "Were any of these techniques particularly helpful for your network?"
      ],
      "id": "marine-brunswick"
    }
  ]
}